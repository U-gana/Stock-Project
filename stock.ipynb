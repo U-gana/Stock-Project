{
 "cells": [
  {
   "cell_type": "code",
   "execution_count": null,
   "id": "310a8d0b",
   "metadata": {},
   "outputs": [],
   "source": [
    "jsknb"
   ]
  }
 ],
 "metadata": {
  "language_info": {
   "name": "python"
  }
 },
 "nbformat": 4,
 "nbformat_minor": 5
}
