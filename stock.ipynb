{
 "cells": [
  {
   "cell_type": "code",
   "execution_count": 49,
   "id": "310a8d0b",
   "metadata": {},
   "outputs": [
    {
     "data": {
      "text/html": [
       "<div>\n",
       "<style scoped>\n",
       "    .dataframe tbody tr th:only-of-type {\n",
       "        vertical-align: middle;\n",
       "    }\n",
       "\n",
       "    .dataframe tbody tr th {\n",
       "        vertical-align: top;\n",
       "    }\n",
       "\n",
       "    .dataframe thead th {\n",
       "        text-align: right;\n",
       "    }\n",
       "</style>\n",
       "<table border=\"1\" class=\"dataframe\">\n",
       "  <thead>\n",
       "    <tr style=\"text-align: right;\">\n",
       "      <th></th>\n",
       "      <th>Adj Close</th>\n",
       "      <th>Close</th>\n",
       "      <th>High</th>\n",
       "      <th>Low</th>\n",
       "      <th>Open</th>\n",
       "      <th>Volume</th>\n",
       "      <th>Company</th>\n",
       "      <th>Date</th>\n",
       "      <th>Target</th>\n",
       "      <th>Score</th>\n",
       "      <th>Comments</th>\n",
       "      <th>Cleaned_Text</th>\n",
       "      <th>Sentiment</th>\n",
       "      <th>Sentiment_Score</th>\n",
       "    </tr>\n",
       "  </thead>\n",
       "  <tbody>\n",
       "    <tr>\n",
       "      <th>12064</th>\n",
       "      <td>205.740005</td>\n",
       "      <td>205.740005</td>\n",
       "      <td>207.639999</td>\n",
       "      <td>205.050003</td>\n",
       "      <td>206.979996</td>\n",
       "      <td>28061600</td>\n",
       "      <td>Amazon</td>\n",
       "      <td>2024-11-27</td>\n",
       "      <td>1</td>\n",
       "      <td>0</td>\n",
       "      <td>23</td>\n",
       "      <td>im taking hard look spending got thinking amaz...</td>\n",
       "      <td>Positive</td>\n",
       "      <td>0.999907</td>\n",
       "    </tr>\n",
       "    <tr>\n",
       "      <th>12065</th>\n",
       "      <td>205.740005</td>\n",
       "      <td>205.740005</td>\n",
       "      <td>207.639999</td>\n",
       "      <td>205.050003</td>\n",
       "      <td>206.979996</td>\n",
       "      <td>28061600</td>\n",
       "      <td>Amazon</td>\n",
       "      <td>2024-11-27</td>\n",
       "      <td>1</td>\n",
       "      <td>31</td>\n",
       "      <td>307</td>\n",
       "      <td>please use thread discussion dont feel warrant...</td>\n",
       "      <td>Positive</td>\n",
       "      <td>0.999910</td>\n",
       "    </tr>\n",
       "    <tr>\n",
       "      <th>12066</th>\n",
       "      <td>207.889999</td>\n",
       "      <td>207.889999</td>\n",
       "      <td>208.199997</td>\n",
       "      <td>204.589996</td>\n",
       "      <td>205.830002</td>\n",
       "      <td>24892400</td>\n",
       "      <td>Amazon</td>\n",
       "      <td>2024-11-29</td>\n",
       "      <td>1</td>\n",
       "      <td>0</td>\n",
       "      <td>35</td>\n",
       "      <td>previously compared portfolio strategist inves...</td>\n",
       "      <td>Positive</td>\n",
       "      <td>0.999987</td>\n",
       "    </tr>\n",
       "    <tr>\n",
       "      <th>12067</th>\n",
       "      <td>237.330002</td>\n",
       "      <td>237.330002</td>\n",
       "      <td>237.809998</td>\n",
       "      <td>233.970001</td>\n",
       "      <td>234.809998</td>\n",
       "      <td>28481400</td>\n",
       "      <td>Apple</td>\n",
       "      <td>2024-11-29</td>\n",
       "      <td>0</td>\n",
       "      <td>0</td>\n",
       "      <td>2</td>\n",
       "      <td>hey anybody made purchase apple paid time chas...</td>\n",
       "      <td>Positive</td>\n",
       "      <td>0.998584</td>\n",
       "    </tr>\n",
       "    <tr>\n",
       "      <th>12068</th>\n",
       "      <td>237.330002</td>\n",
       "      <td>237.330002</td>\n",
       "      <td>237.809998</td>\n",
       "      <td>233.970001</td>\n",
       "      <td>234.809998</td>\n",
       "      <td>28481400</td>\n",
       "      <td>Apple</td>\n",
       "      <td>2024-11-29</td>\n",
       "      <td>0</td>\n",
       "      <td>0</td>\n",
       "      <td>2</td>\n",
       "      <td>disabled mobility impairment brain impairment ...</td>\n",
       "      <td>Positive</td>\n",
       "      <td>0.994461</td>\n",
       "    </tr>\n",
       "  </tbody>\n",
       "</table>\n",
       "</div>"
      ],
      "text/plain": [
       "        Adj Close       Close        High         Low        Open    Volume  \\\n",
       "12064  205.740005  205.740005  207.639999  205.050003  206.979996  28061600   \n",
       "12065  205.740005  205.740005  207.639999  205.050003  206.979996  28061600   \n",
       "12066  207.889999  207.889999  208.199997  204.589996  205.830002  24892400   \n",
       "12067  237.330002  237.330002  237.809998  233.970001  234.809998  28481400   \n",
       "12068  237.330002  237.330002  237.809998  233.970001  234.809998  28481400   \n",
       "\n",
       "      Company        Date  Target  Score  Comments  \\\n",
       "12064  Amazon  2024-11-27       1      0        23   \n",
       "12065  Amazon  2024-11-27       1     31       307   \n",
       "12066  Amazon  2024-11-29       1      0        35   \n",
       "12067   Apple  2024-11-29       0      0         2   \n",
       "12068   Apple  2024-11-29       0      0         2   \n",
       "\n",
       "                                            Cleaned_Text Sentiment  \\\n",
       "12064  im taking hard look spending got thinking amaz...  Positive   \n",
       "12065  please use thread discussion dont feel warrant...  Positive   \n",
       "12066  previously compared portfolio strategist inves...  Positive   \n",
       "12067  hey anybody made purchase apple paid time chas...  Positive   \n",
       "12068  disabled mobility impairment brain impairment ...  Positive   \n",
       "\n",
       "       Sentiment_Score  \n",
       "12064         0.999907  \n",
       "12065         0.999910  \n",
       "12066         0.999987  \n",
       "12067         0.998584  \n",
       "12068         0.994461  "
      ]
     },
     "execution_count": 49,
     "metadata": {},
     "output_type": "execute_result"
    }
   ],
   "source": [
    "import pandas as pd \n",
    "import numpy as np\n",
    "import matplotlib.pyplot as plt\n",
    "import seaborn as sns\n",
    "df =  pd.read_csv(\"merged_stock_sentiment_data.csv\")\n",
    "df.tail()"
   ]
  },
  {
   "cell_type": "code",
   "execution_count": 50,
   "id": "475bed18",
   "metadata": {},
   "outputs": [],
   "source": [
    "# Drop rows where Cleaned_Text is empty, NaN, or only whitespace\n",
    "df = df[df['Cleaned_Text'].notna()]  # Remove NaNs\n",
    "df = df[df['Cleaned_Text'].str.strip() != '']  # Remove empty strings or whitespace"
   ]
  },
  {
   "cell_type": "code",
   "execution_count": 51,
   "id": "80345386",
   "metadata": {},
   "outputs": [
    {
     "data": {
      "text/plain": [
       "Adj Close          0\n",
       "Close              0\n",
       "High               0\n",
       "Low                0\n",
       "Open               0\n",
       "Volume             0\n",
       "Company            0\n",
       "Date               0\n",
       "Target             0\n",
       "Score              0\n",
       "Comments           0\n",
       "Cleaned_Text       0\n",
       "Sentiment          0\n",
       "Sentiment_Score    0\n",
       "dtype: int64"
      ]
     },
     "execution_count": 51,
     "metadata": {},
     "output_type": "execute_result"
    }
   ],
   "source": [
    "df.isna().sum()"
   ]
  },
  {
   "cell_type": "code",
   "execution_count": 52,
   "id": "e38c549e",
   "metadata": {},
   "outputs": [
    {
     "data": {
      "text/html": [
       "<div>\n",
       "<style scoped>\n",
       "    .dataframe tbody tr th:only-of-type {\n",
       "        vertical-align: middle;\n",
       "    }\n",
       "\n",
       "    .dataframe tbody tr th {\n",
       "        vertical-align: top;\n",
       "    }\n",
       "\n",
       "    .dataframe thead th {\n",
       "        text-align: right;\n",
       "    }\n",
       "</style>\n",
       "<table border=\"1\" class=\"dataframe\">\n",
       "  <thead>\n",
       "    <tr style=\"text-align: right;\">\n",
       "      <th></th>\n",
       "      <th>Date</th>\n",
       "      <th>Cleaned_Text</th>\n",
       "      <th>Sentiment</th>\n",
       "    </tr>\n",
       "  </thead>\n",
       "  <tbody>\n",
       "    <tr>\n",
       "      <th>0</th>\n",
       "      <td>2010-09-20</td>\n",
       "      <td>stock market game iphone ipad play</td>\n",
       "      <td>Positive</td>\n",
       "    </tr>\n",
       "    <tr>\n",
       "      <th>1</th>\n",
       "      <td>2010-12-13</td>\n",
       "      <td>hussman warning awful time invest</td>\n",
       "      <td>Neutral</td>\n",
       "    </tr>\n",
       "    <tr>\n",
       "      <th>2</th>\n",
       "      <td>2010-12-15</td>\n",
       "      <td>awful time invest reflection lost opportunity</td>\n",
       "      <td>Negative</td>\n",
       "    </tr>\n",
       "    <tr>\n",
       "      <th>3</th>\n",
       "      <td>2011-02-24</td>\n",
       "      <td>amazon prime streaming disrupt netflix</td>\n",
       "      <td>Negative</td>\n",
       "    </tr>\n",
       "    <tr>\n",
       "      <th>4</th>\n",
       "      <td>2011-09-12</td>\n",
       "      <td>personally im fan theyre already beatendown pr...</td>\n",
       "      <td>Negative</td>\n",
       "    </tr>\n",
       "  </tbody>\n",
       "</table>\n",
       "</div>"
      ],
      "text/plain": [
       "         Date                                       Cleaned_Text Sentiment\n",
       "0  2010-09-20                 stock market game iphone ipad play  Positive\n",
       "1  2010-12-13                  hussman warning awful time invest   Neutral\n",
       "2  2010-12-15      awful time invest reflection lost opportunity  Negative\n",
       "3  2011-02-24             amazon prime streaming disrupt netflix  Negative\n",
       "4  2011-09-12  personally im fan theyre already beatendown pr...  Negative"
      ]
     },
     "execution_count": 52,
     "metadata": {},
     "output_type": "execute_result"
    }
   ],
   "source": [
    "sentiment_df = df[[\"Date\", \"Cleaned_Text\",\"Sentiment\"]]\n",
    "trade_df = df[[\"Date\", \"Sentiment\",\"Close\",\"Adj Close\", \"Close\",\"High\",\"Low\", \"Open\",\"Volume\", \"Company\",\"Target\",]]\n",
    "sentiment_df.head()"
   ]
  },
  {
   "cell_type": "code",
   "execution_count": 53,
   "id": "ae19ec0c",
   "metadata": {},
   "outputs": [
    {
     "data": {
      "text/html": [
       "<div>\n",
       "<style scoped>\n",
       "    .dataframe tbody tr th:only-of-type {\n",
       "        vertical-align: middle;\n",
       "    }\n",
       "\n",
       "    .dataframe tbody tr th {\n",
       "        vertical-align: top;\n",
       "    }\n",
       "\n",
       "    .dataframe thead th {\n",
       "        text-align: right;\n",
       "    }\n",
       "</style>\n",
       "<table border=\"1\" class=\"dataframe\">\n",
       "  <thead>\n",
       "    <tr style=\"text-align: right;\">\n",
       "      <th></th>\n",
       "      <th>Date</th>\n",
       "      <th>Sentiment</th>\n",
       "      <th>Close</th>\n",
       "      <th>Adj Close</th>\n",
       "      <th>Close</th>\n",
       "      <th>High</th>\n",
       "      <th>Low</th>\n",
       "      <th>Open</th>\n",
       "      <th>Volume</th>\n",
       "      <th>Company</th>\n",
       "      <th>Target</th>\n",
       "    </tr>\n",
       "  </thead>\n",
       "  <tbody>\n",
       "    <tr>\n",
       "      <th>0</th>\n",
       "      <td>2010-09-20</td>\n",
       "      <td>Positive</td>\n",
       "      <td>10.115357</td>\n",
       "      <td>8.532785</td>\n",
       "      <td>10.115357</td>\n",
       "      <td>10.135000</td>\n",
       "      <td>9.851786</td>\n",
       "      <td>9.860000</td>\n",
       "      <td>658677600</td>\n",
       "      <td>Apple</td>\n",
       "      <td>1</td>\n",
       "    </tr>\n",
       "    <tr>\n",
       "      <th>1</th>\n",
       "      <td>2010-12-13</td>\n",
       "      <td>Neutral</td>\n",
       "      <td>8.712500</td>\n",
       "      <td>8.712500</td>\n",
       "      <td>8.712500</td>\n",
       "      <td>8.897000</td>\n",
       "      <td>8.686500</td>\n",
       "      <td>8.816500</td>\n",
       "      <td>84050000</td>\n",
       "      <td>Amazon</td>\n",
       "      <td>1</td>\n",
       "    </tr>\n",
       "    <tr>\n",
       "      <th>2</th>\n",
       "      <td>2010-12-15</td>\n",
       "      <td>Negative</td>\n",
       "      <td>8.778500</td>\n",
       "      <td>8.778500</td>\n",
       "      <td>8.778500</td>\n",
       "      <td>8.950000</td>\n",
       "      <td>8.679500</td>\n",
       "      <td>8.686000</td>\n",
       "      <td>116210000</td>\n",
       "      <td>Amazon</td>\n",
       "      <td>1</td>\n",
       "    </tr>\n",
       "    <tr>\n",
       "      <th>3</th>\n",
       "      <td>2011-02-24</td>\n",
       "      <td>Negative</td>\n",
       "      <td>8.887500</td>\n",
       "      <td>8.887500</td>\n",
       "      <td>8.887500</td>\n",
       "      <td>8.987500</td>\n",
       "      <td>8.728000</td>\n",
       "      <td>8.843000</td>\n",
       "      <td>93130000</td>\n",
       "      <td>Amazon</td>\n",
       "      <td>1</td>\n",
       "    </tr>\n",
       "    <tr>\n",
       "      <th>4</th>\n",
       "      <td>2011-09-12</td>\n",
       "      <td>Negative</td>\n",
       "      <td>13.569286</td>\n",
       "      <td>11.446334</td>\n",
       "      <td>13.569286</td>\n",
       "      <td>13.602857</td>\n",
       "      <td>13.282143</td>\n",
       "      <td>13.321429</td>\n",
       "      <td>467832400</td>\n",
       "      <td>Apple</td>\n",
       "      <td>-1</td>\n",
       "    </tr>\n",
       "  </tbody>\n",
       "</table>\n",
       "</div>"
      ],
      "text/plain": [
       "         Date Sentiment      Close  Adj Close      Close       High  \\\n",
       "0  2010-09-20  Positive  10.115357   8.532785  10.115357  10.135000   \n",
       "1  2010-12-13   Neutral   8.712500   8.712500   8.712500   8.897000   \n",
       "2  2010-12-15  Negative   8.778500   8.778500   8.778500   8.950000   \n",
       "3  2011-02-24  Negative   8.887500   8.887500   8.887500   8.987500   \n",
       "4  2011-09-12  Negative  13.569286  11.446334  13.569286  13.602857   \n",
       "\n",
       "         Low       Open     Volume Company  Target  \n",
       "0   9.851786   9.860000  658677600   Apple       1  \n",
       "1   8.686500   8.816500   84050000  Amazon       1  \n",
       "2   8.679500   8.686000  116210000  Amazon       1  \n",
       "3   8.728000   8.843000   93130000  Amazon       1  \n",
       "4  13.282143  13.321429  467832400   Apple      -1  "
      ]
     },
     "execution_count": 53,
     "metadata": {},
     "output_type": "execute_result"
    }
   ],
   "source": [
    "trade_df.head()"
   ]
  },
  {
   "cell_type": "code",
   "execution_count": 54,
   "id": "db52e207",
   "metadata": {},
   "outputs": [
    {
     "data": {
      "text/plain": [
       "Sentiment\n",
       "Positive    9253\n",
       "Neutral     1544\n",
       "Negative    1118\n",
       "Name: count, dtype: int64"
      ]
     },
     "execution_count": 54,
     "metadata": {},
     "output_type": "execute_result"
    }
   ],
   "source": [
    "trade_df[\"Sentiment\"].value_counts()"
   ]
  },
  {
   "cell_type": "markdown",
   "id": "3029ea25",
   "metadata": {},
   "source": [
    "## EDA\n"
   ]
  },
  {
   "cell_type": "code",
   "execution_count": 55,
   "id": "43988b07",
   "metadata": {},
   "outputs": [
    {
     "data": {
      "text/plain": [
       "Text(0, 0.5, 'Importance')"
      ]
     },
     "execution_count": 55,
     "metadata": {},
     "output_type": "execute_result"
    },
    {
     "data": {
      "image/png": "[encoded data removed]",
      "text/plain": [
       "<Figure size 1000x700 with 1 Axes>"
      ]
     },
     "metadata": {},
     "output_type": "display_data"
    }
   ],
   "source": [
    "value = trade_df[\"Company\"].value_counts()\n",
    "plt.figure(figsize=(10, 7))\n",
    "plt.bar(trade_df[\"Company\"].unique(),value, color = \"skyblue\")\n",
    "plt.title(\"Company by count\")\n",
    "plt.xlabel(\"Category\")\n",
    "plt.ylabel(\"Importance\")"
   ]
  },
  {
   "cell_type": "code",
   "execution_count": 56,
   "id": "0db20c7e",
   "metadata": {},
   "outputs": [
    {
     "data": {
      "text/plain": [
       "DatetimeIndex(['2010-09-20', '2010-12-13', '2010-12-15', '2011-02-24',\n",
       "               '2011-09-12', '2011-09-26', '2011-10-04', '2011-10-18',\n",
       "               '2011-10-18', '2011-10-25',\n",
       "               ...\n",
       "               '2024-11-26', '2024-11-27', '2024-11-27', '2024-11-27',\n",
       "               '2024-11-27', '2024-11-27', '2024-11-27', '2024-11-29',\n",
       "               '2024-11-29', '2024-11-29'],\n",
       "              dtype='datetime64[ns]', name='Date', length=11915, freq=None)"
      ]
     },
     "execution_count": 56,
     "metadata": {},
     "output_type": "execute_result"
    }
   ],
   "source": [
    "sentiment_df.index = pd.to_datetime(sentiment_df[\"Date\"])\n",
    "sentiment_df.index"
   ]
  },
  {
   "cell_type": "code",
   "execution_count": 57,
   "id": "2423fbf0",
   "metadata": {},
   "outputs": [
    {
     "data": {
      "text/plain": [
       "DatetimeIndex(['2010-09-20', '2010-12-13', '2010-12-15', '2011-02-24',\n",
       "               '2011-09-12', '2011-09-26', '2011-10-04', '2011-10-18',\n",
       "               '2011-10-18', '2011-10-25',\n",
       "               ...\n",
       "               '2024-11-26', '2024-11-27', '2024-11-27', '2024-11-27',\n",
       "               '2024-11-27', '2024-11-27', '2024-11-27', '2024-11-29',\n",
       "               '2024-11-29', '2024-11-29'],\n",
       "              dtype='datetime64[ns]', name='Date', length=11915, freq=None)"
      ]
     },
     "execution_count": 57,
     "metadata": {},
     "output_type": "execute_result"
    }
   ],
   "source": [
    "trade_df.index = pd.to_datetime(trade_df[\"Date\"])\n",
    "trade_df.index"
   ]
  },
  {
   "cell_type": "code",
   "execution_count": null,
   "id": "9c3c2d19",
   "metadata": {},
   "outputs": [
    {
     "name": "stderr",
     "output_type": "stream",
     "text": [
      "C:\\Users\\USER\\AppData\\Local\\Temp\\ipykernel_10788\\3409545791.py:3: SettingWithCopyWarning: \n",
      "A value is trying to be set on a copy of a slice from a DataFrame.\n",
      "Try using .loc[row_indexer,col_indexer] = value instead\n",
      "\n",
      "See the caveats in the documentation: https://pandas.pydata.org/pandas-docs/stable/user_guide/indexing.html#returning-a-view-versus-a-copy\n",
      "  sentiment_df[\"Sentiment\"] = encoder.fit_transform(sentiment_df[\"Sentiment\"])\n"
     ]
    },
    {
     "data": {
      "text/html": [
       "<div>\n",
       "<style scoped>\n",
       "    .dataframe tbody tr th:only-of-type {\n",
       "        vertical-align: middle;\n",
       "    }\n",
       "\n",
       "    .dataframe tbody tr th {\n",
       "        vertical-align: top;\n",
       "    }\n",
       "\n",
       "    .dataframe thead th {\n",
       "        text-align: right;\n",
       "    }\n",
       "</style>\n",
       "<table border=\"1\" class=\"dataframe\">\n",
       "  <thead>\n",
       "    <tr style=\"text-align: right;\">\n",
       "      <th></th>\n",
       "      <th>Date</th>\n",
       "      <th>Cleaned_Text</th>\n",
       "      <th>Sentiment</th>\n",
       "    </tr>\n",
       "    <tr>\n",
       "      <th>Date</th>\n",
       "      <th></th>\n",
       "      <th></th>\n",
       "      <th></th>\n",
       "    </tr>\n",
       "  </thead>\n",
       "  <tbody>\n",
       "    <tr>\n",
       "      <th>2010-09-20</th>\n",
       "      <td>2010-09-20</td>\n",
       "      <td>stock market game iphone ipad play</td>\n",
       "      <td>2</td>\n",
       "    </tr>\n",
       "    <tr>\n",
       "      <th>2010-12-13</th>\n",
       "      <td>2010-12-13</td>\n",
       "      <td>hussman warning awful time invest</td>\n",
       "      <td>1</td>\n",
       "    </tr>\n",
       "    <tr>\n",
       "      <th>2010-12-15</th>\n",
       "      <td>2010-12-15</td>\n",
       "      <td>awful time invest reflection lost opportunity</td>\n",
       "      <td>0</td>\n",
       "    </tr>\n",
       "    <tr>\n",
       "      <th>2011-02-24</th>\n",
       "      <td>2011-02-24</td>\n",
       "      <td>amazon prime streaming disrupt netflix</td>\n",
       "      <td>0</td>\n",
       "    </tr>\n",
       "    <tr>\n",
       "      <th>2011-09-12</th>\n",
       "      <td>2011-09-12</td>\n",
       "      <td>personally im fan theyre already beatendown pr...</td>\n",
       "      <td>0</td>\n",
       "    </tr>\n",
       "  </tbody>\n",
       "</table>\n",
       "</div>"
      ],
      "text/plain": [
       "                  Date                                       Cleaned_Text  \\\n",
       "Date                                                                        \n",
       "2010-09-20  2010-09-20                 stock market game iphone ipad play   \n",
       "2010-12-13  2010-12-13                  hussman warning awful time invest   \n",
       "2010-12-15  2010-12-15      awful time invest reflection lost opportunity   \n",
       "2011-02-24  2011-02-24             amazon prime streaming disrupt netflix   \n",
       "2011-09-12  2011-09-12  personally im fan theyre already beatendown pr...   \n",
       "\n",
       "            Sentiment  \n",
       "Date                   \n",
       "2010-09-20          2  \n",
       "2010-12-13          1  \n",
       "2010-12-15          0  \n",
       "2011-02-24          0  \n",
       "2011-09-12          0  "
      ]
     },
     "execution_count": 64,
     "metadata": {},
     "output_type": "execute_result"
    }
   ],
   "source": [
    "from sklearn.preprocessing import LabelEncoder\n",
    "encoder = LabelEncoder()\n",
    "sentiment_df[\"Sentiment\"] = encoder.fit_transform(sentiment_df[\"Sentiment\"])\n",
    "sentiment_df.head()\n",
    "\n",
    "trade_df[\"T\"] = encoder.fit_transform(sentiment_df[\"Sentiment\"])\n",
    "sentiment_df.head()"
   ]
  },
  {
   "cell_type": "markdown",
   "id": "4d9282a3",
   "metadata": {},
   "source": [
    "## Modeling "
   ]
  },
  {
   "cell_type": "code",
   "execution_count": 65,
   "id": "b14b8325",
   "metadata": {},
   "outputs": [
    {
     "name": "stdout",
     "output_type": "stream",
     "text": [
      "              precision    recall  f1-score   support\n",
      "\n",
      "           0       0.55      0.42      0.48       226\n",
      "           1       0.59      0.59      0.59       296\n",
      "           2       0.89      0.92      0.90      1861\n",
      "\n",
      "    accuracy                           0.83      2383\n",
      "   macro avg       0.68      0.64      0.66      2383\n",
      "weighted avg       0.82      0.83      0.83      2383\n",
      "\n",
      "0.8300461603021402\n"
     ]
    }
   ],
   "source": [
    "##Classificating model for sentiment\n",
    "from sklearn.svm import LinearSVC\n",
    "from sklearn.model_selection import train_test_split\n",
    "from sklearn.metrics import classification_report, accuracy_score\n",
    "from sklearn.pipeline import Pipeline\n",
    "from sklearn.feature_extraction.text import CountVectorizer,TfidfVectorizer\n",
    "\n",
    "\n",
    "#intansiate\n",
    "model  = Pipeline([(\"tfidf\", TfidfVectorizer(stop_words = \"english\")),(\"clf\", LinearSVC(max_iter=1000, C=1, loss=\"squared_hinge\",class_weight=\"balanced\"))])\n",
    "\n",
    "# inotialising features and target values \n",
    "x = sentiment_df[\"Cleaned_Text\"]\n",
    "y = sentiment_df[\"Sentiment\"]\n",
    "\n",
    "# splitting to training and test set \n",
    "x_train, x_test, y_train, y_test = train_test_split(x, y,test_size=0.2)\n",
    "\n",
    "# fitting data \n",
    "model.fit(x_train, y_train)\n",
    "\n",
    "# make predictin \n",
    "y_pred = model.predict(x_test)\n",
    "\n",
    "print(classification_report(y_test, y_pred)),\n",
    "print(accuracy_score(y_test, y_pred))"
   ]
  },
  {
   "cell_type": "code",
   "execution_count": null,
   "id": "53dddc02",
   "metadata": {},
   "outputs": [],
   "source": [
    "from sklearn.ensemble import RandomForestClassifier\n",
    "from sklearn.linear_model import LogisticRegression\n",
    "from sklearn.metrics import classification_report, accuracy_score\n",
    "from sklearn.model_selection import train_test_split\n",
    "from sklearn.compose import ColumnTransformer\n",
    "from sklearn.preprocessing import LabelEncoder"
   ]
  }
 ],
 "metadata": {
  "kernelspec": {
   "display_name": "base",
   "language": "python",
   "name": "python3"
  },
  "language_info": {
   "codemirror_mode": {
    "name": "ipython",
    "version": 3
   },
   "file_extension": ".py",
   "mimetype": "text/x-python",
   "name": "python",
   "nbconvert_exporter": "python",
   "pygments_lexer": "ipython3",
   "version": "3.12.7"
  }
 },
 "nbformat": 4,
 "nbformat_minor": 5
}
